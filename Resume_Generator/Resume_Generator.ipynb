{
 "cells": [
  {
   "cell_type": "code",
   "execution_count": null,
   "metadata": {
    "colab": {
     "base_uri": "https://localhost:8080/"
    },
    "id": "5vQebLmkUi25",
    "outputId": "a9047d33-7a28-40b0-a536-964b3a6f64ec"
   },
   "outputs": [
    {
     "name": "stdout",
     "output_type": "stream",
     "text": [
      "Requirement already satisfied: gradio in /usr/local/lib/python3.11/dist-packages (5.23.3)\n",
      "Requirement already satisfied: llama-cpp-python in /usr/local/lib/python3.11/dist-packages (0.3.8)\n",
      "Requirement already satisfied: huggingface_hub in /usr/local/lib/python3.11/dist-packages (0.30.1)\n",
      "Requirement already satisfied: aiofiles<24.0,>=22.0 in /usr/local/lib/python3.11/dist-packages (from gradio) (23.2.1)\n",
      "Requirement already satisfied: anyio<5.0,>=3.0 in /usr/local/lib/python3.11/dist-packages (from gradio) (4.9.0)\n",
      "Requirement already satisfied: fastapi<1.0,>=0.115.2 in /usr/local/lib/python3.11/dist-packages (from gradio) (0.115.12)\n",
      "Requirement already satisfied: ffmpy in /usr/local/lib/python3.11/dist-packages (from gradio) (0.5.0)\n",
      "Requirement already satisfied: gradio-client==1.8.0 in /usr/local/lib/python3.11/dist-packages (from gradio) (1.8.0)\n",
      "Requirement already satisfied: groovy~=0.1 in /usr/local/lib/python3.11/dist-packages (from gradio) (0.1.2)\n",
      "Requirement already satisfied: httpx>=0.24.1 in /usr/local/lib/python3.11/dist-packages (from gradio) (0.28.1)\n",
      "Requirement already satisfied: jinja2<4.0 in /usr/local/lib/python3.11/dist-packages (from gradio) (3.1.6)\n",
      "Requirement already satisfied: markupsafe<4.0,>=2.0 in /usr/local/lib/python3.11/dist-packages (from gradio) (3.0.2)\n",
      "Requirement already satisfied: numpy<3.0,>=1.0 in /usr/local/lib/python3.11/dist-packages (from gradio) (2.0.2)\n",
      "Requirement already satisfied: orjson~=3.0 in /usr/local/lib/python3.11/dist-packages (from gradio) (3.10.16)\n",
      "Requirement already satisfied: packaging in /usr/local/lib/python3.11/dist-packages (from gradio) (24.2)\n",
      "Requirement already satisfied: pandas<3.0,>=1.0 in /usr/local/lib/python3.11/dist-packages (from gradio) (2.2.2)\n",
      "Requirement already satisfied: pillow<12.0,>=8.0 in /usr/local/lib/python3.11/dist-packages (from gradio) (11.1.0)\n",
      "Requirement already satisfied: pydantic<2.12,>=2.0 in /usr/local/lib/python3.11/dist-packages (from gradio) (2.11.1)\n",
      "Requirement already satisfied: pydub in /usr/local/lib/python3.11/dist-packages (from gradio) (0.25.1)\n",
      "Requirement already satisfied: python-multipart>=0.0.18 in /usr/local/lib/python3.11/dist-packages (from gradio) (0.0.20)\n",
      "Requirement already satisfied: pyyaml<7.0,>=5.0 in /usr/local/lib/python3.11/dist-packages (from gradio) (6.0.2)\n",
      "Requirement already satisfied: ruff>=0.9.3 in /usr/local/lib/python3.11/dist-packages (from gradio) (0.11.3)\n",
      "Requirement already satisfied: safehttpx<0.2.0,>=0.1.6 in /usr/local/lib/python3.11/dist-packages (from gradio) (0.1.6)\n",
      "Requirement already satisfied: semantic-version~=2.0 in /usr/local/lib/python3.11/dist-packages (from gradio) (2.10.0)\n",
      "Requirement already satisfied: starlette<1.0,>=0.40.0 in /usr/local/lib/python3.11/dist-packages (from gradio) (0.46.1)\n",
      "Requirement already satisfied: tomlkit<0.14.0,>=0.12.0 in /usr/local/lib/python3.11/dist-packages (from gradio) (0.13.2)\n",
      "Requirement already satisfied: typer<1.0,>=0.12 in /usr/local/lib/python3.11/dist-packages (from gradio) (0.15.2)\n",
      "Requirement already satisfied: typing-extensions~=4.0 in /usr/local/lib/python3.11/dist-packages (from gradio) (4.13.0)\n",
      "Requirement already satisfied: uvicorn>=0.14.0 in /usr/local/lib/python3.11/dist-packages (from gradio) (0.34.0)\n",
      "Requirement already satisfied: fsspec in /usr/local/lib/python3.11/dist-packages (from gradio-client==1.8.0->gradio) (2025.3.2)\n",
      "Requirement already satisfied: websockets<16.0,>=10.0 in /usr/local/lib/python3.11/dist-packages (from gradio-client==1.8.0->gradio) (15.0.1)\n",
      "Requirement already satisfied: diskcache>=5.6.1 in /usr/local/lib/python3.11/dist-packages (from llama-cpp-python) (5.6.3)\n",
      "Requirement already satisfied: filelock in /usr/local/lib/python3.11/dist-packages (from huggingface_hub) (3.18.0)\n",
      "Requirement already satisfied: requests in /usr/local/lib/python3.11/dist-packages (from huggingface_hub) (2.32.3)\n",
      "Requirement already satisfied: tqdm>=4.42.1 in /usr/local/lib/python3.11/dist-packages (from huggingface_hub) (4.67.1)\n",
      "Requirement already satisfied: idna>=2.8 in /usr/local/lib/python3.11/dist-packages (from anyio<5.0,>=3.0->gradio) (3.10)\n",
      "Requirement already satisfied: sniffio>=1.1 in /usr/local/lib/python3.11/dist-packages (from anyio<5.0,>=3.0->gradio) (1.3.1)\n",
      "Requirement already satisfied: certifi in /usr/local/lib/python3.11/dist-packages (from httpx>=0.24.1->gradio) (2025.1.31)\n",
      "Requirement already satisfied: httpcore==1.* in /usr/local/lib/python3.11/dist-packages (from httpx>=0.24.1->gradio) (1.0.7)\n",
      "Requirement already satisfied: h11<0.15,>=0.13 in /usr/local/lib/python3.11/dist-packages (from httpcore==1.*->httpx>=0.24.1->gradio) (0.14.0)\n",
      "Requirement already satisfied: python-dateutil>=2.8.2 in /usr/local/lib/python3.11/dist-packages (from pandas<3.0,>=1.0->gradio) (2.8.2)\n",
      "Requirement already satisfied: pytz>=2020.1 in /usr/local/lib/python3.11/dist-packages (from pandas<3.0,>=1.0->gradio) (2025.2)\n",
      "Requirement already satisfied: tzdata>=2022.7 in /usr/local/lib/python3.11/dist-packages (from pandas<3.0,>=1.0->gradio) (2025.2)\n",
      "Requirement already satisfied: annotated-types>=0.6.0 in /usr/local/lib/python3.11/dist-packages (from pydantic<2.12,>=2.0->gradio) (0.7.0)\n",
      "Requirement already satisfied: pydantic-core==2.33.0 in /usr/local/lib/python3.11/dist-packages (from pydantic<2.12,>=2.0->gradio) (2.33.0)\n",
      "Requirement already satisfied: typing-inspection>=0.4.0 in /usr/local/lib/python3.11/dist-packages (from pydantic<2.12,>=2.0->gradio) (0.4.0)\n",
      "Requirement already satisfied: click>=8.0.0 in /usr/local/lib/python3.11/dist-packages (from typer<1.0,>=0.12->gradio) (8.1.8)\n",
      "Requirement already satisfied: shellingham>=1.3.0 in /usr/local/lib/python3.11/dist-packages (from typer<1.0,>=0.12->gradio) (1.5.4)\n",
      "Requirement already satisfied: rich>=10.11.0 in /usr/local/lib/python3.11/dist-packages (from typer<1.0,>=0.12->gradio) (13.9.4)\n",
      "Requirement already satisfied: charset-normalizer<4,>=2 in /usr/local/lib/python3.11/dist-packages (from requests->huggingface_hub) (3.4.1)\n",
      "Requirement already satisfied: urllib3<3,>=1.21.1 in /usr/local/lib/python3.11/dist-packages (from requests->huggingface_hub) (2.3.0)\n",
      "Requirement already satisfied: six>=1.5 in /usr/local/lib/python3.11/dist-packages (from python-dateutil>=2.8.2->pandas<3.0,>=1.0->gradio) (1.17.0)\n",
      "Requirement already satisfied: markdown-it-py>=2.2.0 in /usr/local/lib/python3.11/dist-packages (from rich>=10.11.0->typer<1.0,>=0.12->gradio) (3.0.0)\n",
      "Requirement already satisfied: pygments<3.0.0,>=2.13.0 in /usr/local/lib/python3.11/dist-packages (from rich>=10.11.0->typer<1.0,>=0.12->gradio) (2.18.0)\n",
      "Requirement already satisfied: mdurl~=0.1 in /usr/local/lib/python3.11/dist-packages (from markdown-it-py>=2.2.0->rich>=10.11.0->typer<1.0,>=0.12->gradio) (0.1.2)\n"
     ]
    }
   ],
   "source": [
    "!pip install gradio llama-cpp-python huggingface_hub"
   ]
  },
  {
   "cell_type": "code",
   "execution_count": null,
   "metadata": {
    "colab": {
     "base_uri": "https://localhost:8080/",
     "height": 1000
    },
    "id": "p8JX1rhhT3kD",
    "outputId": "286ee0e1-51ee-4e5d-d716-6dbbd41832cd"
   },
   "outputs": [
    {
     "name": "stderr",
     "output_type": "stream",
     "text": [
      "/usr/local/lib/python3.11/dist-packages/huggingface_hub/utils/_auth.py:94: UserWarning: \n",
      "The secret `HF_TOKEN` does not exist in your Colab secrets.\n",
      "To authenticate with the Hugging Face Hub, create a token in your settings tab (https://huggingface.co/settings/tokens), set it as secret in your Google Colab and restart your session.\n",
      "You will be able to reuse this secret in all of your notebooks.\n",
      "Please note that authentication is recommended but still optional to access public models or datasets.\n",
      "  warnings.warn(\n",
      "llama_model_loader: loaded meta data with 20 key-value pairs and 291 tensors from /root/.cache/huggingface/hub/models--TheBloke--Mistral-7B-Instruct-v0.1-GGUF/snapshots/731a9fc8f06f5f5e2db8a0cf9d256197eb6e05d1/mistral-7b-instruct-v0.1.Q4_K_M.gguf (version GGUF V2)\n",
      "llama_model_loader: Dumping metadata keys/values. Note: KV overrides do not apply in this output.\n",
      "llama_model_loader: - kv   0:                       general.architecture str              = llama\n",
      "llama_model_loader: - kv   1:                               general.name str              = mistralai_mistral-7b-instruct-v0.1\n",
      "llama_model_loader: - kv   2:                       llama.context_length u32              = 32768\n",
      "llama_model_loader: - kv   3:                     llama.embedding_length u32              = 4096\n",
      "llama_model_loader: - kv   4:                          llama.block_count u32              = 32\n",
      "llama_model_loader: - kv   5:                  llama.feed_forward_length u32              = 14336\n",
      "llama_model_loader: - kv   6:                 llama.rope.dimension_count u32              = 128\n",
      "llama_model_loader: - kv   7:                 llama.attention.head_count u32              = 32\n",
      "llama_model_loader: - kv   8:              llama.attention.head_count_kv u32              = 8\n",
      "llama_model_loader: - kv   9:     llama.attention.layer_norm_rms_epsilon f32              = 0.000010\n",
      "llama_model_loader: - kv  10:                       llama.rope.freq_base f32              = 10000.000000\n",
      "llama_model_loader: - kv  11:                          general.file_type u32              = 15\n",
      "llama_model_loader: - kv  12:                       tokenizer.ggml.model str              = llama\n",
      "llama_model_loader: - kv  13:                      tokenizer.ggml.tokens arr[str,32000]   = [\"<unk>\", \"<s>\", \"</s>\", \"<0x00>\", \"<...\n",
      "llama_model_loader: - kv  14:                      tokenizer.ggml.scores arr[f32,32000]   = [0.000000, 0.000000, 0.000000, 0.0000...\n",
      "llama_model_loader: - kv  15:                  tokenizer.ggml.token_type arr[i32,32000]   = [2, 3, 3, 6, 6, 6, 6, 6, 6, 6, 6, 6, ...\n",
      "llama_model_loader: - kv  16:                tokenizer.ggml.bos_token_id u32              = 1\n",
      "llama_model_loader: - kv  17:                tokenizer.ggml.eos_token_id u32              = 2\n",
      "llama_model_loader: - kv  18:            tokenizer.ggml.unknown_token_id u32              = 0\n",
      "llama_model_loader: - kv  19:               general.quantization_version u32              = 2\n",
      "llama_model_loader: - type  f32:   65 tensors\n",
      "llama_model_loader: - type q4_K:  193 tensors\n",
      "llama_model_loader: - type q6_K:   33 tensors\n",
      "print_info: file format = GGUF V2\n",
      "print_info: file type   = Q4_K - Medium\n",
      "print_info: file size   = 4.07 GiB (4.83 BPW) \n",
      "init_tokenizer: initializing tokenizer for type 1\n",
      "load: control token:      2 '</s>' is not marked as EOG\n",
      "load: control token:      1 '<s>' is not marked as EOG\n",
      "load: special_eos_id is not in special_eog_ids - the tokenizer config may be incorrect\n",
      "load: special tokens cache size = 3\n",
      "load: token to piece cache size = 0.1637 MB\n",
      "print_info: arch             = llama\n",
      "print_info: vocab_only       = 0\n",
      "print_info: n_ctx_train      = 32768\n",
      "print_info: n_embd           = 4096\n",
      "print_info: n_layer          = 32\n",
      "print_info: n_head           = 32\n",
      "print_info: n_head_kv        = 8\n",
      "print_info: n_rot            = 128\n",
      "print_info: n_swa            = 0\n",
      "print_info: n_embd_head_k    = 128\n",
      "print_info: n_embd_head_v    = 128\n",
      "print_info: n_gqa            = 4\n",
      "print_info: n_embd_k_gqa     = 1024\n",
      "print_info: n_embd_v_gqa     = 1024\n",
      "print_info: f_norm_eps       = 0.0e+00\n",
      "print_info: f_norm_rms_eps   = 1.0e-05\n",
      "print_info: f_clamp_kqv      = 0.0e+00\n",
      "print_info: f_max_alibi_bias = 0.0e+00\n",
      "print_info: f_logit_scale    = 0.0e+00\n",
      "print_info: f_attn_scale     = 0.0e+00\n",
      "print_info: n_ff             = 14336\n",
      "print_info: n_expert         = 0\n",
      "print_info: n_expert_used    = 0\n",
      "print_info: causal attn      = 1\n",
      "print_info: pooling type     = 0\n",
      "print_info: rope type        = 0\n",
      "print_info: rope scaling     = linear\n",
      "print_info: freq_base_train  = 10000.0\n",
      "print_info: freq_scale_train = 1\n",
      "print_info: n_ctx_orig_yarn  = 32768\n",
      "print_info: rope_finetuned   = unknown\n",
      "print_info: ssm_d_conv       = 0\n",
      "print_info: ssm_d_inner      = 0\n",
      "print_info: ssm_d_state      = 0\n",
      "print_info: ssm_dt_rank      = 0\n",
      "print_info: ssm_dt_b_c_rms   = 0\n",
      "print_info: model type       = 7B\n",
      "print_info: model params     = 7.24 B\n",
      "print_info: general.name     = mistralai_mistral-7b-instruct-v0.1\n",
      "print_info: vocab type       = SPM\n",
      "print_info: n_vocab          = 32000\n",
      "print_info: n_merges         = 0\n",
      "print_info: BOS token        = 1 '<s>'\n",
      "print_info: EOS token        = 2 '</s>'\n",
      "print_info: UNK token        = 0 '<unk>'\n",
      "print_info: LF token         = 13 '<0x0A>'\n",
      "print_info: EOG token        = 2 '</s>'\n",
      "print_info: max token length = 48\n",
      "load_tensors: loading model tensors, this can take a while... (mmap = true)\n",
      "load_tensors: layer   0 assigned to device CPU\n",
      "load_tensors: layer   1 assigned to device CPU\n",
      "load_tensors: layer   2 assigned to device CPU\n",
      "load_tensors: layer   3 assigned to device CPU\n",
      "load_tensors: layer   4 assigned to device CPU\n",
      "load_tensors: layer   5 assigned to device CPU\n",
      "load_tensors: layer   6 assigned to device CPU\n",
      "load_tensors: layer   7 assigned to device CPU\n",
      "load_tensors: layer   8 assigned to device CPU\n",
      "load_tensors: layer   9 assigned to device CPU\n",
      "load_tensors: layer  10 assigned to device CPU\n",
      "load_tensors: layer  11 assigned to device CPU\n",
      "load_tensors: layer  12 assigned to device CPU\n",
      "load_tensors: layer  13 assigned to device CPU\n",
      "load_tensors: layer  14 assigned to device CPU\n",
      "load_tensors: layer  15 assigned to device CPU\n",
      "load_tensors: layer  16 assigned to device CPU\n",
      "load_tensors: layer  17 assigned to device CPU\n",
      "load_tensors: layer  18 assigned to device CPU\n",
      "load_tensors: layer  19 assigned to device CPU\n",
      "load_tensors: layer  20 assigned to device CPU\n",
      "load_tensors: layer  21 assigned to device CPU\n",
      "load_tensors: layer  22 assigned to device CPU\n",
      "load_tensors: layer  23 assigned to device CPU\n",
      "load_tensors: layer  24 assigned to device CPU\n",
      "load_tensors: layer  25 assigned to device CPU\n",
      "load_tensors: layer  26 assigned to device CPU\n",
      "load_tensors: layer  27 assigned to device CPU\n",
      "load_tensors: layer  28 assigned to device CPU\n",
      "load_tensors: layer  29 assigned to device CPU\n",
      "load_tensors: layer  30 assigned to device CPU\n",
      "load_tensors: layer  31 assigned to device CPU\n",
      "load_tensors: layer  32 assigned to device CPU\n",
      "load_tensors: tensor 'token_embd.weight' (q4_K) (and 290 others) cannot be used with preferred buffer type CPU_AARCH64, using CPU instead\n",
      "load_tensors:   CPU_Mapped model buffer size =  4165.37 MiB\n",
      ".................................................................................................\n",
      "llama_init_from_model: n_seq_max     = 1\n",
      "llama_init_from_model: n_ctx         = 1024\n",
      "llama_init_from_model: n_ctx_per_seq = 1024\n",
      "llama_init_from_model: n_batch       = 512\n",
      "llama_init_from_model: n_ubatch      = 512\n",
      "llama_init_from_model: flash_attn    = 0\n",
      "llama_init_from_model: freq_base     = 10000.0\n",
      "llama_init_from_model: freq_scale    = 1\n",
      "llama_init_from_model: n_ctx_per_seq (1024) < n_ctx_train (32768) -- the full capacity of the model will not be utilized\n",
      "llama_kv_cache_init: kv_size = 1024, offload = 1, type_k = 'f16', type_v = 'f16', n_layer = 32, can_shift = 1\n",
      "llama_kv_cache_init: layer 0: n_embd_k_gqa = 1024, n_embd_v_gqa = 1024\n",
      "llama_kv_cache_init: layer 1: n_embd_k_gqa = 1024, n_embd_v_gqa = 1024\n",
      "llama_kv_cache_init: layer 2: n_embd_k_gqa = 1024, n_embd_v_gqa = 1024\n",
      "llama_kv_cache_init: layer 3: n_embd_k_gqa = 1024, n_embd_v_gqa = 1024\n",
      "llama_kv_cache_init: layer 4: n_embd_k_gqa = 1024, n_embd_v_gqa = 1024\n",
      "llama_kv_cache_init: layer 5: n_embd_k_gqa = 1024, n_embd_v_gqa = 1024\n",
      "llama_kv_cache_init: layer 6: n_embd_k_gqa = 1024, n_embd_v_gqa = 1024\n",
      "llama_kv_cache_init: layer 7: n_embd_k_gqa = 1024, n_embd_v_gqa = 1024\n",
      "llama_kv_cache_init: layer 8: n_embd_k_gqa = 1024, n_embd_v_gqa = 1024\n",
      "llama_kv_cache_init: layer 9: n_embd_k_gqa = 1024, n_embd_v_gqa = 1024\n",
      "llama_kv_cache_init: layer 10: n_embd_k_gqa = 1024, n_embd_v_gqa = 1024\n",
      "llama_kv_cache_init: layer 11: n_embd_k_gqa = 1024, n_embd_v_gqa = 1024\n",
      "llama_kv_cache_init: layer 12: n_embd_k_gqa = 1024, n_embd_v_gqa = 1024\n",
      "llama_kv_cache_init: layer 13: n_embd_k_gqa = 1024, n_embd_v_gqa = 1024\n",
      "llama_kv_cache_init: layer 14: n_embd_k_gqa = 1024, n_embd_v_gqa = 1024\n",
      "llama_kv_cache_init: layer 15: n_embd_k_gqa = 1024, n_embd_v_gqa = 1024\n",
      "llama_kv_cache_init: layer 16: n_embd_k_gqa = 1024, n_embd_v_gqa = 1024\n",
      "llama_kv_cache_init: layer 17: n_embd_k_gqa = 1024, n_embd_v_gqa = 1024\n",
      "llama_kv_cache_init: layer 18: n_embd_k_gqa = 1024, n_embd_v_gqa = 1024\n",
      "llama_kv_cache_init: layer 19: n_embd_k_gqa = 1024, n_embd_v_gqa = 1024\n",
      "llama_kv_cache_init: layer 20: n_embd_k_gqa = 1024, n_embd_v_gqa = 1024\n",
      "llama_kv_cache_init: layer 21: n_embd_k_gqa = 1024, n_embd_v_gqa = 1024\n",
      "llama_kv_cache_init: layer 22: n_embd_k_gqa = 1024, n_embd_v_gqa = 1024\n",
      "llama_kv_cache_init: layer 23: n_embd_k_gqa = 1024, n_embd_v_gqa = 1024\n",
      "llama_kv_cache_init: layer 24: n_embd_k_gqa = 1024, n_embd_v_gqa = 1024\n",
      "llama_kv_cache_init: layer 25: n_embd_k_gqa = 1024, n_embd_v_gqa = 1024\n",
      "llama_kv_cache_init: layer 26: n_embd_k_gqa = 1024, n_embd_v_gqa = 1024\n",
      "llama_kv_cache_init: layer 27: n_embd_k_gqa = 1024, n_embd_v_gqa = 1024\n",
      "llama_kv_cache_init: layer 28: n_embd_k_gqa = 1024, n_embd_v_gqa = 1024\n",
      "llama_kv_cache_init: layer 29: n_embd_k_gqa = 1024, n_embd_v_gqa = 1024\n",
      "llama_kv_cache_init: layer 30: n_embd_k_gqa = 1024, n_embd_v_gqa = 1024\n",
      "llama_kv_cache_init: layer 31: n_embd_k_gqa = 1024, n_embd_v_gqa = 1024\n",
      "llama_kv_cache_init:        CPU KV buffer size =   128.00 MiB\n",
      "llama_init_from_model: KV self size  =  128.00 MiB, K (f16):   64.00 MiB, V (f16):   64.00 MiB\n",
      "llama_init_from_model:        CPU  output buffer size =     0.12 MiB\n",
      "llama_init_from_model:        CPU compute buffer size =    98.01 MiB\n",
      "llama_init_from_model: graph nodes  = 1030\n",
      "llama_init_from_model: graph splits = 1\n",
      "CPU : SSE3 = 1 | SSSE3 = 1 | AVX = 1 | AVX2 = 1 | F16C = 1 | FMA = 1 | BMI2 = 1 | LLAMAFILE = 1 | OPENMP = 1 | AARCH64_REPACK = 1 | \n",
      "Model metadata: {'tokenizer.ggml.unknown_token_id': '0', 'tokenizer.ggml.eos_token_id': '2', 'general.architecture': 'llama', 'llama.rope.freq_base': '10000.000000', 'llama.context_length': '32768', 'general.name': 'mistralai_mistral-7b-instruct-v0.1', 'llama.embedding_length': '4096', 'llama.feed_forward_length': '14336', 'llama.attention.layer_norm_rms_epsilon': '0.000010', 'llama.rope.dimension_count': '128', 'tokenizer.ggml.bos_token_id': '1', 'llama.attention.head_count': '32', 'llama.block_count': '32', 'llama.attention.head_count_kv': '8', 'general.quantization_version': '2', 'tokenizer.ggml.model': 'llama', 'general.file_type': '15'}\n",
      "Using fallback chat format: llama-2\n"
     ]
    },
    {
     "name": "stdout",
     "output_type": "stream",
     "text": [
      "Running Gradio in a Colab notebook requires sharing enabled. Automatically setting `share=True` (you can turn this off by setting `share=False` in `launch()` explicitly).\n",
      "\n",
      "Colab notebook detected. To show errors in colab notebook, set debug=True in launch()\n",
      "* Running on public URL: https://d0d4f92350934395c5.gradio.live\n",
      "\n",
      "This share link expires in 72 hours. For free permanent hosting and GPU upgrades, run `gradio deploy` from the terminal in the working directory to deploy to Hugging Face Spaces (https://huggingface.co/spaces)\n"
     ]
    },
    {
     "data": {
      "text/html": [
       "<div><iframe src=\"https://d0d4f92350934395c5.gradio.live\" width=\"100%\" height=\"500\" allow=\"autoplay; camera; microphone; clipboard-read; clipboard-write;\" frameborder=\"0\" allowfullscreen></iframe></div>"
      ],
      "text/plain": [
       "<IPython.core.display.HTML object>"
      ]
     },
     "metadata": {},
     "output_type": "display_data"
    },
    {
     "data": {
      "text/plain": []
     },
     "execution_count": 2,
     "metadata": {},
     "output_type": "execute_result"
    }
   ],
   "source": [
    "import gradio as gr\n",
    "from llama_cpp import Llama\n",
    "from huggingface_hub import hf_hub_download\n",
    "\n",
    "# Download and load the model\n",
    "model_path = hf_hub_download(\n",
    "    repo_id=\"TheBloke/Mistral-7B-Instruct-v0.1-GGUF\",\n",
    "    filename=\"mistral-7b-instruct-v0.1.Q4_K_M.gguf\"\n",
    ")\n",
    "\n",
    "# Load Mistral-7B with optimized settings\n",
    "llm = Llama(model_path=model_path, n_ctx=1024)  # Increased context for longer output\n",
    "\n",
    "# Resume & Cover Letter Generation\n",
    "def generate_resume(name, job_title, experience, skills, education):\n",
    "    prompt = f\"\"\"\n",
    "    Generate a professional ATS-friendly resume for {name} applying for a {job_title} role.\n",
    "\n",
    "    Experience:\n",
    "    {experience}\n",
    "\n",
    "    Skills:\n",
    "    {skills}\n",
    "\n",
    "    Education:\n",
    "    {education}\n",
    "\n",
    "    Format it properly with sections for Summary, Experience, Skills, and Education.\n",
    "    \"\"\"\n",
    "\n",
    "    response = llm(\n",
    "        prompt=prompt,\n",
    "        max_tokens=600,  # Increased tokens for more content\n",
    "        temperature=0.7,\n",
    "        stream=True\n",
    "    )\n",
    "\n",
    "    final_text = \"\"\n",
    "    for chunk in response:\n",
    "        final_text += chunk[\"choices\"][0][\"text\"]\n",
    "\n",
    "    resume_text = final_text.strip()\n",
    "\n",
    "    # Save the resume to a file\n",
    "    with open(\"resume.txt\", \"w\") as f:\n",
    "        f.write(resume_text)\n",
    "\n",
    "    return resume_text, \"resume.txt\"  # Return resume text + file path for download\n",
    "\n",
    "def generate_cover_letter(name, job_title, company, experience, skills):\n",
    "    prompt = f\"\"\"\n",
    "    Write a professional cover letter for {name} applying for a {job_title} role at {company}.\n",
    "\n",
    "    Experience:\n",
    "    {experience}\n",
    "\n",
    "    Skills:\n",
    "    {skills}\n",
    "\n",
    "    Ensure it follows a proper structure: Introduction, Body, and Closing.\n",
    "    \"\"\"\n",
    "\n",
    "    response = llm(\n",
    "        prompt=prompt,\n",
    "        max_tokens=600,\n",
    "        temperature=0.7,\n",
    "        stream=True\n",
    "    )\n",
    "\n",
    "    final_text = \"\"\n",
    "    for chunk in response:\n",
    "        final_text += chunk[\"choices\"][0][\"text\"]\n",
    "\n",
    "    return final_text.strip()\n",
    "\n",
    "# Gradio UI\n",
    "with gr.Blocks(theme=gr.themes.Soft(), css=\"\"\"\n",
    "    input[type=\"text\"] {\n",
    "        background-color: #FFB8E0 !important;\n",
    "        border: 1px solid #4A90E2 !important;\n",
    "        color: #4A90E2 !important;\n",
    "    }\n",
    "    input[type=\"text\"]::placeholder {\n",
    "        color: rgba(203, 227, 75, 0.5) !important;\n",
    "    }\n",
    "\"\"\") as demo:\n",
    "    gr.HTML(\"<h1 style='text-align:center; color:#4A90E2;'>Generate Resume & Cover Letter</h1>\")\n",
    "\n",
    "    with gr.Row():\n",
    "        with gr.Column():\n",
    "            name = gr.Textbox(label=\"Your Name\", placeholder=\"Enter your full name\")\n",
    "            job_title = gr.Textbox(label=\"Job Title\", placeholder=\"e.g., Software Engineer\")\n",
    "            company = gr.Textbox(label=\"Company (for Cover Letter)\", placeholder=\"Enter company name\")\n",
    "\n",
    "        with gr.Column():\n",
    "            experience = gr.Textbox(label=\"Work Experience\", placeholder=\"Describe your work experience\")\n",
    "            skills = gr.Textbox(label=\"Key Skills\", placeholder=\"List your key skills separated by commas\")\n",
    "            education = gr.Textbox(label=\"Education Details\", placeholder=\"Enter your highest qualification\")\n",
    "\n",
    "    with gr.Row():\n",
    "        generate_resume_btn = gr.Button(\"Generate Resume\", variant=\"primary\")\n",
    "        generate_cover_btn = gr.Button(\"Generate Cover Letter\", variant=\"secondary\")\n",
    "\n",
    "    with gr.Row():\n",
    "        resume_output = gr.Textbox(label=\"Generated Resume\", lines=15, interactive=False, show_copy_button=True)\n",
    "        resume_download = gr.File(label=\"Download Resume\", visible=False)\n",
    "\n",
    "        cover_output = gr.Textbox(label=\"Generated Cover Letter\", lines=15, interactive=False, show_copy_button=True)\n",
    "\n",
    "    # Resume Button: Generates Resume + Shows Download Option\n",
    "    generate_resume_btn.click(generate_resume,\n",
    "                              inputs=[name, job_title, experience, skills, education],\n",
    "                              outputs=[resume_output, resume_download])\n",
    "\n",
    "    # Cover Letter Button\n",
    "    generate_cover_btn.click(generate_cover_letter,\n",
    "                             inputs=[name, job_title, company, experience, skills],\n",
    "                             outputs=cover_output)\n",
    "\n",
    "demo.launch()\n"
   ]
  },
  {
   "cell_type": "code",
   "execution_count": null,
   "metadata": {
    "colab": {
     "base_uri": "https://localhost:8080/"
    },
    "id": "1rx3bcj9WuYh",
    "outputId": "08098860-7539-45bb-d1c4-f49159a22f4d"
   },
   "outputs": [
    {
     "name": "stdout",
     "output_type": "stream",
     "text": [
      "Collecting textstat\n",
      "  Downloading textstat-0.7.5-py3-none-any.whl.metadata (15 kB)\n",
      "Collecting pyphen (from textstat)\n",
      "  Downloading pyphen-0.17.2-py3-none-any.whl.metadata (3.2 kB)\n",
      "Collecting cmudict (from textstat)\n",
      "  Downloading cmudict-1.0.32-py3-none-any.whl.metadata (3.6 kB)\n",
      "Requirement already satisfied: setuptools in /usr/local/lib/python3.11/dist-packages (from textstat) (75.1.0)\n",
      "Requirement already satisfied: importlib-metadata>=5 in /usr/local/lib/python3.11/dist-packages (from cmudict->textstat) (8.6.1)\n",
      "Requirement already satisfied: importlib-resources>=5 in /usr/local/lib/python3.11/dist-packages (from cmudict->textstat) (6.5.2)\n",
      "Requirement already satisfied: zipp>=3.20 in /usr/local/lib/python3.11/dist-packages (from importlib-metadata>=5->cmudict->textstat) (3.21.0)\n",
      "Downloading textstat-0.7.5-py3-none-any.whl (105 kB)\n",
      "\u001b[2K   \u001b[90m━━━━━━━━━━━━━━━━━━━━━━━━━━━━━━━━━━━━━━━━\u001b[0m \u001b[32m105.3/105.3 kB\u001b[0m \u001b[31m7.7 MB/s\u001b[0m eta \u001b[36m0:00:00\u001b[0m\n",
      "\u001b[?25hDownloading cmudict-1.0.32-py3-none-any.whl (939 kB)\n",
      "\u001b[2K   \u001b[90m━━━━━━━━━━━━━━━━━━━━━━━━━━━━━━━━━━━━━━━━\u001b[0m \u001b[32m939.4/939.4 kB\u001b[0m \u001b[31m41.5 MB/s\u001b[0m eta \u001b[36m0:00:00\u001b[0m\n",
      "\u001b[?25hDownloading pyphen-0.17.2-py3-none-any.whl (2.1 MB)\n",
      "\u001b[2K   \u001b[90m━━━━━━━━━━━━━━━━━━━━━━━━━━━━━━━━━━━━━━━━\u001b[0m \u001b[32m2.1/2.1 MB\u001b[0m \u001b[31m75.1 MB/s\u001b[0m eta \u001b[36m0:00:00\u001b[0m\n",
      "\u001b[?25hInstalling collected packages: pyphen, cmudict, textstat\n",
      "Successfully installed cmudict-1.0.32 pyphen-0.17.2 textstat-0.7.5\n"
     ]
    }
   ],
   "source": [
    "pip install textstat\n"
   ]
  },
  {
   "cell_type": "code",
   "execution_count": null,
   "metadata": {
    "colab": {
     "base_uri": "https://localhost:8080/",
     "height": 1000,
     "referenced_widgets": [
      "d882c659ca814dae814d3ebb22a36593",
      "28d8c13300ba4c2283b6ab42f27c9de6",
      "a02600710c664a3c96f33f6db42465cf",
      "b583f4dabc244970a451e256ad200ed8",
      "cf0ef949895b43ab87d5bc9e36fc5733",
      "1788390a58cb4f0b98ee483124ab1265",
      "c0fc1777aab24c95a9ab2c949a13cbf5",
      "80f89f48af5340a58c37cc23b97178bd",
      "1ebc082b227e4c36974bf7289d99b647",
      "c13b5cfe1fbc4072826b6d0ee20674e6",
      "255bd049296a4a5792237a43d39a1bad",
      "bb9d405eed684ba6bce535d4921a65b6",
      "ba52e067820c4f1ba52742be27b95a26",
      "9bde5a0dd4284e4ab162c42cc4dcd7a0",
      "810ab4244d63449fa6c99a7d3806f9c3",
      "5ef518b49441447381520093031eec6c",
      "081bcd9ecfa34a61bc4b7f022a8b1153",
      "45206dbf458945fe825bbcff3877e9bc",
      "4624ba252361430a9043254f194b64a3",
      "a84bafeb69bb49b695125b3cca73cc40",
      "42f30b48642545e9be06c6978814dc1e",
      "dc90e059dd824f309439f472ccf2dd64",
      "9712233a31d54d31bd78f3ed1913e68d",
      "754f1da4ab004129ba00c44d89e2f704",
      "7ee1d3d85a6145ecb57f8189dc0dda52",
      "d38ce19f3692463794b9f4f52b095d48",
      "a355d43a427347ca8fecaa966cc60140",
      "20f7619200b84d78964cd412efa1c004",
      "9021a33b43904fbe9384a7b8b54ed27b",
      "68207466a31c44a7aa8ca4b77bb8a81a",
      "53e7db07f5dd48508c73e9a2b31c0bae",
      "90e4e0ca3319431c957e5c2c75c62630",
      "d010e3263d0345dab4790249003d2f2e",
      "bcfc5359f1ae4ddaa8d889fdfb00f4e6",
      "a2c31a81858b42bf823a872eeebf0e13",
      "e2ec735f152c4d7586107b68527d8121",
      "aeba656e941d45f2914d5e6da6b32d43",
      "2a488f4c87f0479888482f1d56bd4a95",
      "ca08292940bd4d48b2173b256c45537f",
      "89ea60bdfaf74fa890fbd7a6ff3c6d55",
      "b9a71961a1a545f69e307c704d6ee384",
      "c7d0e961d426402a9d404f1cd47cc0ce",
      "8f85a592a1384b378083e51a1fdb9427",
      "78810a5fb9df40afbd3f91f0b385df67",
      "40205ffee64b49ffaa3fb1821511b209",
      "29bfa466c80c4bc0be124233f2f4995a",
      "92044268948a4aa6bf7ed64678221ca7",
      "272fad70a6c640febfa252af1180b488",
      "de5938adc7854338b23668f38e758476",
      "fe4907143f6e483b8181c9e6f9a744ac",
      "947fbe9c3b4c45c28dafe713fccd2732",
      "04d8847f409b4449a28d0b1870a503ac",
      "a09ebfbce1e743d09adb0d4bc6d285a2",
      "707dab68869241b29241ef2639799b59",
      "1ef05552a96246e69c48b02aa18d1975",
      "7217aecd0ce9409a8d3a7e90b9b7c71e",
      "5e1fa146f13340e2955fe35e2ae5394f",
      "4d3cb0ab5b9944f6ad6d023da5839a24",
      "512b4cb7b1564c87a64b0a25ba40569d",
      "ba9d5ead4fa44189a2cc2301a986bb02",
      "b93ce9e78e5445e896ed4a5b5dd5167f",
      "71ca528185b6443f9a91c5f34ef5debe",
      "2ae5662c41e144248c3986e22b3210c9",
      "5cf48f346f8a4364a4edf6b0bf6242d4",
      "e5adec7f67994f1c847a319f9cb92899",
      "2815ecd967554946a0fb8145abaca4da",
      "e5aea048766a4b05871191160499c1d1",
      "2772d1276b9d4de1958a43058252c2f0",
      "3f2ab0c2526e40ec852862ce3c611a4b",
      "936d3503d49243f5bfdae01c9309643d",
      "ede78be5042e4b9f975908928e72ac9d",
      "b8b04fefdb77458ba1c7ddc37d10e51d",
      "23733826c75a463da1b26ad5732b2f7d",
      "e77636267f184b9a854a09b6a2cb44f9",
      "f63260a5fa67427f99cbd8415e3c2b88",
      "2a59d0a88ed245b1b9854fe1f1ced184",
      "3eb6c0db2d294805a37519669c0f341d",
      "aca697aa0a034c4689219fe7bcfb47ce",
      "3658dad9347d4ccebf8bf5ee4d0b362c",
      "e71685df8e2f42bfaf29b41d4edbbff3",
      "c4c1d2b25da445d8a780e88fc8f4f629",
      "cd2e126e3bba4b5088668ebc9d9a141d",
      "dfebefbfdbc1408f8c1ec95d0bfa5a4b",
      "6cf5b11ef06e466e8273ec3291455393",
      "485e196cff69406697f4e9080ea596a3",
      "945a9a57124149a19f15ca340fb5f3da",
      "61129c0e6207486d89d831357066fcd8",
      "4176cb307dc2414ea9d433455470f256",
      "fb84bc371f794694829a4183c827f6db",
      "29755a5aa8c44cb4b7bad9432acfc8c7",
      "e1d915fb1da24104b53202a69f4a7760",
      "1998bb9b235846d7931641f27186efc9",
      "d9fcb8548ee94f97975627853c7080f5",
      "da90e3a5d84442babbe1661b6aaf1e1b",
      "712922de861e4c678ffa6635bab65175",
      "a62b76372e154aee9ce1e4bc10aba292",
      "052d584b421f4da3bb1bd212301f8054",
      "24b75bbed5c7466290c806e720a18663",
      "0291959143184277ba2a28b090c464e1",
      "9f40c6a099d644c98bd2cd1120016ff3",
      "b33165445a744240be322a2e0c4900fd",
      "75e4adcca6054b1ab61e29e0d395f0fa",
      "aae385884ff24040b7a40e3a0d46bea9",
      "a5327d4c356846558c74d4c4f9ed01e3",
      "7738080f1a3e4835a72c4f3003a43d86",
      "5d5ef4db3ab144fe9d095ccf981228a7",
      "00ad4cbc768342d8b46181cbd86ddcd2",
      "e29fe64ad04f4780895f34d5da7bf174",
      "696645e627d24ab4b2a7a4e5738271e0",
      "fec9edd3b79949609dcfd58ab53891cc",
      "30d3702273934d0ab74e89ae4b65ef63",
      "e872d7fb90944e6588e0c231edd75564",
      "f894fd329ae8461fa1a3dda5f04ed618",
      "f994b9b89cc84896850b78b521cfa38e",
      "d14b3c6ed94d49549b4d9b70e9f26ba5",
      "b943a2f6c81e46b5b66aae67117b52d4",
      "52131378c59c4170963ae5c8e9a8ef7b",
      "5fbab0a4cd71413c899153c89f3d5b23",
      "75a39723e95e45bb8c450cfd044f9982",
      "f68eb69a38e44bf6bf057224465754b6",
      "c1e1cc7b63984f9aa3e12f80066eae16"
     ]
    },
    "id": "4v2QtKqNe5b0",
    "outputId": "f7a07ce5-10b0-46a2-ea22-3207d52bc3fc"
   },
   "outputs": [
    {
     "data": {
      "application/vnd.jupyter.widget-view+json": {
       "model_id": "d882c659ca814dae814d3ebb22a36593",
       "version_major": 2,
       "version_minor": 0
      },
      "text/plain": [
       "modules.json:   0%|          | 0.00/349 [00:00<?, ?B/s]"
      ]
     },
     "metadata": {},
     "output_type": "display_data"
    },
    {
     "data": {
      "application/vnd.jupyter.widget-view+json": {
       "model_id": "bb9d405eed684ba6bce535d4921a65b6",
       "version_major": 2,
       "version_minor": 0
      },
      "text/plain": [
       "config_sentence_transformers.json:   0%|          | 0.00/116 [00:00<?, ?B/s]"
      ]
     },
     "metadata": {},
     "output_type": "display_data"
    },
    {
     "data": {
      "application/vnd.jupyter.widget-view+json": {
       "model_id": "9712233a31d54d31bd78f3ed1913e68d",
       "version_major": 2,
       "version_minor": 0
      },
      "text/plain": [
       "README.md:   0%|          | 0.00/10.5k [00:00<?, ?B/s]"
      ]
     },
     "metadata": {},
     "output_type": "display_data"
    },
    {
     "data": {
      "application/vnd.jupyter.widget-view+json": {
       "model_id": "bcfc5359f1ae4ddaa8d889fdfb00f4e6",
       "version_major": 2,
       "version_minor": 0
      },
      "text/plain": [
       "sentence_bert_config.json:   0%|          | 0.00/53.0 [00:00<?, ?B/s]"
      ]
     },
     "metadata": {},
     "output_type": "display_data"
    },
    {
     "data": {
      "application/vnd.jupyter.widget-view+json": {
       "model_id": "40205ffee64b49ffaa3fb1821511b209",
       "version_major": 2,
       "version_minor": 0
      },
      "text/plain": [
       "config.json:   0%|          | 0.00/612 [00:00<?, ?B/s]"
      ]
     },
     "metadata": {},
     "output_type": "display_data"
    },
    {
     "data": {
      "application/vnd.jupyter.widget-view+json": {
       "model_id": "7217aecd0ce9409a8d3a7e90b9b7c71e",
       "version_major": 2,
       "version_minor": 0
      },
      "text/plain": [
       "model.safetensors:   0%|          | 0.00/90.9M [00:00<?, ?B/s]"
      ]
     },
     "metadata": {},
     "output_type": "display_data"
    },
    {
     "data": {
      "application/vnd.jupyter.widget-view+json": {
       "model_id": "e5aea048766a4b05871191160499c1d1",
       "version_major": 2,
       "version_minor": 0
      },
      "text/plain": [
       "tokenizer_config.json:   0%|          | 0.00/350 [00:00<?, ?B/s]"
      ]
     },
     "metadata": {},
     "output_type": "display_data"
    },
    {
     "data": {
      "application/vnd.jupyter.widget-view+json": {
       "model_id": "aca697aa0a034c4689219fe7bcfb47ce",
       "version_major": 2,
       "version_minor": 0
      },
      "text/plain": [
       "vocab.txt:   0%|          | 0.00/232k [00:00<?, ?B/s]"
      ]
     },
     "metadata": {},
     "output_type": "display_data"
    },
    {
     "data": {
      "application/vnd.jupyter.widget-view+json": {
       "model_id": "fb84bc371f794694829a4183c827f6db",
       "version_major": 2,
       "version_minor": 0
      },
      "text/plain": [
       "tokenizer.json:   0%|          | 0.00/466k [00:00<?, ?B/s]"
      ]
     },
     "metadata": {},
     "output_type": "display_data"
    },
    {
     "data": {
      "application/vnd.jupyter.widget-view+json": {
       "model_id": "9f40c6a099d644c98bd2cd1120016ff3",
       "version_major": 2,
       "version_minor": 0
      },
      "text/plain": [
       "special_tokens_map.json:   0%|          | 0.00/112 [00:00<?, ?B/s]"
      ]
     },
     "metadata": {},
     "output_type": "display_data"
    },
    {
     "data": {
      "application/vnd.jupyter.widget-view+json": {
       "model_id": "30d3702273934d0ab74e89ae4b65ef63",
       "version_major": 2,
       "version_minor": 0
      },
      "text/plain": [
       "config.json:   0%|          | 0.00/190 [00:00<?, ?B/s]"
      ]
     },
     "metadata": {},
     "output_type": "display_data"
    },
    {
     "data": {
      "text/markdown": [
       "\n",
       "# 🎯 **ATS Score: 73.45%**\n",
       "\n"
      ],
      "text/plain": [
       "<IPython.core.display.Markdown object>"
      ]
     },
     "metadata": {},
     "output_type": "display_data"
    },
    {
     "data": {
      "text/markdown": [
       "## 💡 **Suggestions for Improvement:**"
      ],
      "text/plain": [
       "<IPython.core.display.Markdown object>"
      ]
     },
     "metadata": {},
     "output_type": "display_data"
    },
    {
     "data": {
      "text/markdown": [
       "- 🔍 **Include more relevant technical skills to improve your resume.**"
      ],
      "text/plain": [
       "<IPython.core.display.Markdown object>"
      ]
     },
     "metadata": {},
     "output_type": "display_data"
    },
    {
     "data": {
      "text/markdown": [
       "- 💡 **Clearly list your technical skills and industry-specific expertise.**"
      ],
      "text/plain": [
       "<IPython.core.display.Markdown object>"
      ]
     },
     "metadata": {},
     "output_type": "display_data"
    },
    {
     "name": "stdout",
     "output_type": "stream",
     "text": [
      "\n",
      "\n"
     ]
    },
    {
     "name": "stderr",
     "output_type": "stream",
     "text": [
      "/usr/local/lib/python3.11/dist-packages/IPython/core/pylabtools.py:151: UserWarning: Glyph 127919 (\\N{DIRECT HIT}) missing from font(s) DejaVu Sans.\n",
      "  fig.canvas.print_figure(bytes_io, **kw)\n"
     ]
    },
    {
     "data": {
      "image/png": "[encoded data removed]",
      "text/plain": [
       "<Figure size 400x400 with 1 Axes>"
      ]
     },
     "metadata": {},
     "output_type": "display_data"
    },
    {
     "name": "stdout",
     "output_type": "stream",
     "text": [
      "\n",
      "\n"
     ]
    },
    {
     "name": "stderr",
     "output_type": "stream",
     "text": [
      "/usr/local/lib/python3.11/dist-packages/IPython/core/pylabtools.py:151: UserWarning: Glyph 128202 (\\N{BAR CHART}) missing from font(s) DejaVu Sans.\n",
      "  fig.canvas.print_figure(bytes_io, **kw)\n"
     ]
    },
    {
     "data": {
      "image/png": "[encoded data removed]",
      "text/plain": [
       "<Figure size 800x500 with 1 Axes>"
      ]
     },
     "metadata": {},
     "output_type": "display_data"
    }
   ],
   "source": [
    "import os\n",
    "import re\n",
    "import numpy as np\n",
    "import matplotlib.pyplot as plt\n",
    "import nltk\n",
    "import spacy\n",
    "from sentence_transformers import SentenceTransformer, util\n",
    "from sklearn.feature_extraction.text import TfidfVectorizer\n",
    "from matplotlib.patches import Circle\n",
    "from matplotlib.colors import LinearSegmentedColormap\n",
    "from IPython.display import display, Markdown\n",
    "\n",
    "# Load NLP models\n",
    "model = SentenceTransformer(\"all-MiniLM-L6-v2\")\n",
    "nlp = spacy.load(\"en_core_web_sm\")\n",
    "\n",
    "# Read the resume file\n",
    "resume_path = \"resume.txt\"\n",
    "if not os.path.exists(resume_path):\n",
    "    raise FileNotFoundError(\"⚠️ Error: resume.txt not found.\")\n",
    "\n",
    "with open(resume_path, \"r\", encoding=\"utf-8\") as file:\n",
    "    resume_text = file.read()\n",
    "\n",
    "# Extract job description dynamically\n",
    "summary_match = re.search(r\"Summary:\\s*(.*?)(?:Experience:|Skills:|Education:|$)\", resume_text, re.DOTALL)\n",
    "job_description = summary_match.group(1).strip() if summary_match else \". \".join(re.split(r'\\.\\s+', resume_text)[:3])\n",
    "\n",
    "# Compute similarity score\n",
    "resume_embedding = model.encode(resume_text, convert_to_tensor=True)\n",
    "job_embedding = model.encode(job_description, convert_to_tensor=True)\n",
    "similarity_score = util.pytorch_cos_sim(resume_embedding, job_embedding).item() * 100\n",
    "\n",
    "# Extract job title\n",
    "common_titles = {\"developer\", \"engineer\", \"manager\", \"designer\", \"analyst\", \"consultant\", \"specialist\"}\n",
    "doc = nlp(resume_text)\n",
    "job_title = next((ent.text for ent in doc.ents if ent.label_ == \"ORG\" or any(word.lower() in common_titles for word in ent.text.split())), \"\")\n",
    "\n",
    "# Extract relevant terms using TF-IDF\n",
    "vectorizer = TfidfVectorizer(stop_words=\"english\", max_features=20)\n",
    "tf_idf_matrix = vectorizer.fit_transform([resume_text])\n",
    "extracted_keywords = vectorizer.get_feature_names_out()\n",
    "\n",
    "# Technical Skills Matching\n",
    "tech_skills = {\"python\", \"java\", \"javascript\", \"sql\", \"aws\", \"docker\", \"react\", \"machine learning\", \"data analysis\"}\n",
    "skills_found = set(extracted_keywords) & tech_skills\n",
    "\n",
    "# Scoring calculations\n",
    "job_title_score = 20 if job_title else 5\n",
    "keyword_match_score = min((len(skills_found) / len(tech_skills)) * 30, 30)\n",
    "skills_match_score = min((len(skills_found) / len(extracted_keywords)) * 30, 30)\n",
    "readability_score = 10 if \"-\" in resume_text or \"\\n\" in resume_text else 4\n",
    "word_count_score = 10 if len(resume_text.split()) > 250 else 5\n",
    "similarity_weighted_score = min(similarity_score * 0.3, 30)\n",
    "\n",
    "# Final ATS Score Calculation\n",
    "ats_score = round(job_title_score + keyword_match_score + skills_match_score + readability_score + word_count_score + similarity_weighted_score, 2)\n",
    "\n",
    "# Suggestions for improvement\n",
    "suggestions = []\n",
    "if not job_title:\n",
    "    suggestions.append(\"📝 **Ensure your resume includes a clear job title.**\")\n",
    "if keyword_match_score < 20:\n",
    "    suggestions.append(\"🔍 **Include more relevant technical skills to improve your resume.**\")\n",
    "if skills_match_score < 20:\n",
    "    suggestions.append(\"💡 **Clearly list your technical skills and industry-specific expertise.**\")\n",
    "if readability_score < 10:\n",
    "    suggestions.append(\"📌 **Use bullet points to enhance readability.**\")\n",
    "if word_count_score < 10:\n",
    "    suggestions.append(\"📜 **Add more detailed projects or experiences to strengthen your resume.**\")\n",
    "\n",
    "display(Markdown(f\"\"\"\n",
    "# 🎯 **ATS Score: {ats_score}%**\n",
    "{\"✅ Your resume is well-optimized!\" if not suggestions else \"\"}\n",
    "\"\"\"))\n",
    "if suggestions:\n",
    "    display(Markdown(\"## 💡 **Suggestions for Improvement:**\"))\n",
    "    for suggestion in suggestions:\n",
    "        display(Markdown(f\"- {suggestion}\"))\n",
    "\n",
    "    print(\"\\n\")\n",
    "\n",
    "# Circular Progress Indicator\n",
    "def plot_progress_circle(score):\n",
    "    fig, ax = plt.subplots(figsize=(4, 4))\n",
    "    ax.set_xlim(-1.2, 1.2)\n",
    "    ax.set_ylim(-1.2, 1.2)\n",
    "    ax.axis(\"off\")\n",
    "    gradient = np.linspace(0, 1, 256).reshape(1, -1)\n",
    "    cmap = LinearSegmentedColormap.from_list(\"blue_purple\", [\"#0000FF\", \"#800080\"])\n",
    "    ax.imshow(gradient, aspect=\"auto\", cmap=cmap, extent=[-1.2, 1.2, -1.2, 1.2], alpha=0.2)\n",
    "    ax.add_patch(Circle((0, 0), 1, color=\"lightgray\", lw=2, fill=True))\n",
    "    theta = np.linspace(0, (score / 100) * 2 * np.pi, 100)\n",
    "    ax.plot(np.cos(theta), np.sin(theta), lw=8, color=\"green\")\n",
    "    ax.text(0, 0, f\"{score}%\", fontsize=18, fontweight=\"bold\", ha=\"center\", va=\"center\", color=\"black\")\n",
    "    ax.set_title(\"🎯 ATS Score Progress\", fontsize=14, fontweight=\"bold\")\n",
    "    plt.show()\n",
    "\n",
    "plot_progress_circle(ats_score)\n",
    "\n",
    "print(\"\\n\")\n",
    "\n",
    "# Bar Chart Breakdown\n",
    "labels = [\"Job Title\", \"Keyword Match\", \"Skills Match\", \"Readability\", \"Content Length\", \"Similarity Score\"]\n",
    "scores = [job_title_score, keyword_match_score, skills_match_score, readability_score, word_count_score, similarity_weighted_score]\n",
    "colors = [\"#4CAF50\", \"#FF9800\", \"#2196F3\", \"#9C27B0\", \"#F44336\", \"#007BFF\"]\n",
    "fig, ax = plt.subplots(figsize=(8, 5))\n",
    "ax.barh(labels, scores, color=colors, edgecolor=\"black\", alpha=0.8)\n",
    "ax.set_xlabel(\"Score (out of 30 or 20)\")\n",
    "ax.set_title(\"📊 ATS Score Breakdown\")\n",
    "ax.set_xlim(0, 30)\n",
    "plt.show()\n"
   ]
  },
  {
   "cell_type": "code",
   "execution_count": null,
   "metadata": {
    "colab": {
     "base_uri": "https://localhost:8080/"
    },
    "id": "Iiwy30oP2Zg3",
    "outputId": "e88461a6-6c64-45d6-845a-f4c426170901"
   },
   "outputs": [
    {
     "name": "stdout",
     "output_type": "stream",
     "text": [
      "Requirement already satisfied: nltk in /usr/local/lib/python3.11/dist-packages (3.9.1)\n",
      "Collecting rouge\n",
      "  Downloading rouge-1.0.1-py3-none-any.whl.metadata (4.1 kB)\n",
      "Collecting rouge-score\n",
      "  Downloading rouge_score-0.1.2.tar.gz (17 kB)\n",
      "  Preparing metadata (setup.py) ... \u001b[?25l\u001b[?25hdone\n",
      "Requirement already satisfied: torch in /usr/local/lib/python3.11/dist-packages (2.6.0+cu124)\n",
      "Requirement already satisfied: click in /usr/local/lib/python3.11/dist-packages (from nltk) (8.1.8)\n",
      "Requirement already satisfied: joblib in /usr/local/lib/python3.11/dist-packages (from nltk) (1.4.2)\n",
      "Requirement already satisfied: regex>=2021.8.3 in /usr/local/lib/python3.11/dist-packages (from nltk) (2024.11.6)\n",
      "Requirement already satisfied: tqdm in /usr/local/lib/python3.11/dist-packages (from nltk) (4.67.1)\n",
      "Requirement already satisfied: six in /usr/local/lib/python3.11/dist-packages (from rouge) (1.17.0)\n",
      "Requirement already satisfied: absl-py in /usr/local/lib/python3.11/dist-packages (from rouge-score) (1.4.0)\n",
      "Requirement already satisfied: numpy in /usr/local/lib/python3.11/dist-packages (from rouge-score) (2.0.2)\n",
      "Requirement already satisfied: filelock in /usr/local/lib/python3.11/dist-packages (from torch) (3.18.0)\n",
      "Requirement already satisfied: typing-extensions>=4.10.0 in /usr/local/lib/python3.11/dist-packages (from torch) (4.13.0)\n",
      "Requirement already satisfied: networkx in /usr/local/lib/python3.11/dist-packages (from torch) (3.4.2)\n",
      "Requirement already satisfied: jinja2 in /usr/local/lib/python3.11/dist-packages (from torch) (3.1.6)\n",
      "Requirement already satisfied: fsspec in /usr/local/lib/python3.11/dist-packages (from torch) (2025.3.2)\n",
      "Collecting nvidia-cuda-nvrtc-cu12==12.4.127 (from torch)\n",
      "  Downloading nvidia_cuda_nvrtc_cu12-12.4.127-py3-none-manylinux2014_x86_64.whl.metadata (1.5 kB)\n",
      "Collecting nvidia-cuda-runtime-cu12==12.4.127 (from torch)\n",
      "  Downloading nvidia_cuda_runtime_cu12-12.4.127-py3-none-manylinux2014_x86_64.whl.metadata (1.5 kB)\n",
      "Collecting nvidia-cuda-cupti-cu12==12.4.127 (from torch)\n",
      "  Downloading nvidia_cuda_cupti_cu12-12.4.127-py3-none-manylinux2014_x86_64.whl.metadata (1.6 kB)\n",
      "Collecting nvidia-cudnn-cu12==9.1.0.70 (from torch)\n",
      "  Downloading nvidia_cudnn_cu12-9.1.0.70-py3-none-manylinux2014_x86_64.whl.metadata (1.6 kB)\n",
      "Collecting nvidia-cublas-cu12==12.4.5.8 (from torch)\n",
      "  Downloading nvidia_cublas_cu12-12.4.5.8-py3-none-manylinux2014_x86_64.whl.metadata (1.5 kB)\n",
      "Collecting nvidia-cufft-cu12==11.2.1.3 (from torch)\n",
      "  Downloading nvidia_cufft_cu12-11.2.1.3-py3-none-manylinux2014_x86_64.whl.metadata (1.5 kB)\n",
      "Collecting nvidia-curand-cu12==10.3.5.147 (from torch)\n",
      "  Downloading nvidia_curand_cu12-10.3.5.147-py3-none-manylinux2014_x86_64.whl.metadata (1.5 kB)\n",
      "Collecting nvidia-cusolver-cu12==11.6.1.9 (from torch)\n",
      "  Downloading nvidia_cusolver_cu12-11.6.1.9-py3-none-manylinux2014_x86_64.whl.metadata (1.6 kB)\n",
      "Collecting nvidia-cusparse-cu12==12.3.1.170 (from torch)\n",
      "  Downloading nvidia_cusparse_cu12-12.3.1.170-py3-none-manylinux2014_x86_64.whl.metadata (1.6 kB)\n",
      "Requirement already satisfied: nvidia-cusparselt-cu12==0.6.2 in /usr/local/lib/python3.11/dist-packages (from torch) (0.6.2)\n",
      "Requirement already satisfied: nvidia-nccl-cu12==2.21.5 in /usr/local/lib/python3.11/dist-packages (from torch) (2.21.5)\n",
      "Requirement already satisfied: nvidia-nvtx-cu12==12.4.127 in /usr/local/lib/python3.11/dist-packages (from torch) (12.4.127)\n",
      "Collecting nvidia-nvjitlink-cu12==12.4.127 (from torch)\n",
      "  Downloading nvidia_nvjitlink_cu12-12.4.127-py3-none-manylinux2014_x86_64.whl.metadata (1.5 kB)\n",
      "Requirement already satisfied: triton==3.2.0 in /usr/local/lib/python3.11/dist-packages (from torch) (3.2.0)\n",
      "Requirement already satisfied: sympy==1.13.1 in /usr/local/lib/python3.11/dist-packages (from torch) (1.13.1)\n",
      "Requirement already satisfied: mpmath<1.4,>=1.1.0 in /usr/local/lib/python3.11/dist-packages (from sympy==1.13.1->torch) (1.3.0)\n",
      "Requirement already satisfied: MarkupSafe>=2.0 in /usr/local/lib/python3.11/dist-packages (from jinja2->torch) (3.0.2)\n",
      "Downloading rouge-1.0.1-py3-none-any.whl (13 kB)\n",
      "Downloading nvidia_cublas_cu12-12.4.5.8-py3-none-manylinux2014_x86_64.whl (363.4 MB)\n",
      "\u001b[2K   \u001b[90m━━━━━━━━━━━━━━━━━━━━━━━━━━━━━━━━━━━━━━━━\u001b[0m \u001b[32m363.4/363.4 MB\u001b[0m \u001b[31m4.3 MB/s\u001b[0m eta \u001b[36m0:00:00\u001b[0m\n",
      "\u001b[?25hDownloading nvidia_cuda_cupti_cu12-12.4.127-py3-none-manylinux2014_x86_64.whl (13.8 MB)\n",
      "\u001b[2K   \u001b[90m━━━━━━━━━━━━━━━━━━━━━━━━━━━━━━━━━━━━━━━━\u001b[0m \u001b[32m13.8/13.8 MB\u001b[0m \u001b[31m106.2 MB/s\u001b[0m eta \u001b[36m0:00:00\u001b[0m\n",
      "\u001b[?25hDownloading nvidia_cuda_nvrtc_cu12-12.4.127-py3-none-manylinux2014_x86_64.whl (24.6 MB)\n",
      "\u001b[2K   \u001b[90m━━━━━━━━━━━━━━━━━━━━━━━━━━━━━━━━━━━━━━━━\u001b[0m \u001b[32m24.6/24.6 MB\u001b[0m \u001b[31m83.3 MB/s\u001b[0m eta \u001b[36m0:00:00\u001b[0m\n",
      "\u001b[?25hDownloading nvidia_cuda_runtime_cu12-12.4.127-py3-none-manylinux2014_x86_64.whl (883 kB)\n",
      "\u001b[2K   \u001b[90m━━━━━━━━━━━━━━━━━━━━━━━━━━━━━━━━━━━━━━━━\u001b[0m \u001b[32m883.7/883.7 kB\u001b[0m \u001b[31m52.6 MB/s\u001b[0m eta \u001b[36m0:00:00\u001b[0m\n",
      "\u001b[?25hDownloading nvidia_cudnn_cu12-9.1.0.70-py3-none-manylinux2014_x86_64.whl (664.8 MB)\n",
      "\u001b[2K   \u001b[90m━━━━━━━━━━━━━━━━━━━━━━━━━━━━━━━━━━━━━━━━\u001b[0m \u001b[32m664.8/664.8 MB\u001b[0m \u001b[31m2.1 MB/s\u001b[0m eta \u001b[36m0:00:00\u001b[0m\n",
      "\u001b[?25hDownloading nvidia_cufft_cu12-11.2.1.3-py3-none-manylinux2014_x86_64.whl (211.5 MB)\n",
      "\u001b[2K   \u001b[90m━━━━━━━━━━━━━━━━━━━━━━━━━━━━━━━━━━━━━━━━\u001b[0m \u001b[32m211.5/211.5 MB\u001b[0m \u001b[31m4.6 MB/s\u001b[0m eta \u001b[36m0:00:00\u001b[0m\n",
      "\u001b[?25hDownloading nvidia_curand_cu12-10.3.5.147-py3-none-manylinux2014_x86_64.whl (56.3 MB)\n",
      "\u001b[2K   \u001b[90m━━━━━━━━━━━━━━━━━━━━━━━━━━━━━━━━━━━━━━━━\u001b[0m \u001b[32m56.3/56.3 MB\u001b[0m \u001b[31m9.1 MB/s\u001b[0m eta \u001b[36m0:00:00\u001b[0m\n",
      "\u001b[?25h\u001b[33mWARNING: Retrying (Retry(total=4, connect=None, read=None, redirect=None, status=None)) after connection broken by 'ProtocolError('Connection aborted.', RemoteDisconnected('Remote end closed connection without response'))': /packages/3a/e1/5b9089a4b2a4790dfdea8b3a006052cfecff58139d5a4e34cb1a51df8d6f/nvidia_cusolver_cu12-11.6.1.9-py3-none-manylinux2014_x86_64.whl\u001b[0m\u001b[33m\n",
      "\u001b[0mDownloading nvidia_cusolver_cu12-11.6.1.9-py3-none-manylinux2014_x86_64.whl (127.9 MB)\n",
      "\u001b[2K   \u001b[90m━━━━━━━━━━━━━━━━━━━━━━━━━━━━━━━━━━━━━━━━\u001b[0m \u001b[32m127.9/127.9 MB\u001b[0m \u001b[31m6.5 MB/s\u001b[0m eta \u001b[36m0:00:00\u001b[0m\n",
      "\u001b[?25hDownloading nvidia_cusparse_cu12-12.3.1.170-py3-none-manylinux2014_x86_64.whl (207.5 MB)\n",
      "\u001b[2K   \u001b[90m━━━━━━━━━━━━━━━━━━━━━━━━━━━━━━━━━━━━━━━━\u001b[0m \u001b[32m207.5/207.5 MB\u001b[0m \u001b[31m6.0 MB/s\u001b[0m eta \u001b[36m0:00:00\u001b[0m\n",
      "\u001b[?25hDownloading nvidia_nvjitlink_cu12-12.4.127-py3-none-manylinux2014_x86_64.whl (21.1 MB)\n",
      "\u001b[2K   \u001b[90m━━━━━━━━━━━━━━━━━━━━━━━━━━━━━━━━━━━━━━━━\u001b[0m \u001b[32m21.1/21.1 MB\u001b[0m \u001b[31m88.7 MB/s\u001b[0m eta \u001b[36m0:00:00\u001b[0m\n",
      "\u001b[?25hBuilding wheels for collected packages: rouge-score\n",
      "  Building wheel for rouge-score (setup.py) ... \u001b[?25l\u001b[?25hdone\n",
      "  Created wheel for rouge-score: filename=rouge_score-0.1.2-py3-none-any.whl size=24934 sha256=4fde5a4b7d58d7714076a792b3cf0a23cecfb5dcfd725d788c2089d7d447ec84\n",
      "  Stored in directory: /root/.cache/pip/wheels/1e/19/43/8a442dc83660ca25e163e1bd1f89919284ab0d0c1475475148\n",
      "Successfully built rouge-score\n",
      "Installing collected packages: rouge, nvidia-nvjitlink-cu12, nvidia-curand-cu12, nvidia-cufft-cu12, nvidia-cuda-runtime-cu12, nvidia-cuda-nvrtc-cu12, nvidia-cuda-cupti-cu12, nvidia-cublas-cu12, rouge-score, nvidia-cusparse-cu12, nvidia-cudnn-cu12, nvidia-cusolver-cu12\n",
      "  Attempting uninstall: nvidia-nvjitlink-cu12\n",
      "    Found existing installation: nvidia-nvjitlink-cu12 12.5.82\n",
      "    Uninstalling nvidia-nvjitlink-cu12-12.5.82:\n",
      "      Successfully uninstalled nvidia-nvjitlink-cu12-12.5.82\n",
      "  Attempting uninstall: nvidia-curand-cu12\n",
      "    Found existing installation: nvidia-curand-cu12 10.3.6.82\n",
      "    Uninstalling nvidia-curand-cu12-10.3.6.82:\n",
      "      Successfully uninstalled nvidia-curand-cu12-10.3.6.82\n",
      "  Attempting uninstall: nvidia-cufft-cu12\n",
      "    Found existing installation: nvidia-cufft-cu12 11.2.3.61\n",
      "    Uninstalling nvidia-cufft-cu12-11.2.3.61:\n",
      "      Successfully uninstalled nvidia-cufft-cu12-11.2.3.61\n",
      "  Attempting uninstall: nvidia-cuda-runtime-cu12\n",
      "    Found existing installation: nvidia-cuda-runtime-cu12 12.5.82\n",
      "    Uninstalling nvidia-cuda-runtime-cu12-12.5.82:\n",
      "      Successfully uninstalled nvidia-cuda-runtime-cu12-12.5.82\n",
      "  Attempting uninstall: nvidia-cuda-nvrtc-cu12\n",
      "    Found existing installation: nvidia-cuda-nvrtc-cu12 12.5.82\n",
      "    Uninstalling nvidia-cuda-nvrtc-cu12-12.5.82:\n",
      "      Successfully uninstalled nvidia-cuda-nvrtc-cu12-12.5.82\n",
      "  Attempting uninstall: nvidia-cuda-cupti-cu12\n",
      "    Found existing installation: nvidia-cuda-cupti-cu12 12.5.82\n",
      "    Uninstalling nvidia-cuda-cupti-cu12-12.5.82:\n",
      "      Successfully uninstalled nvidia-cuda-cupti-cu12-12.5.82\n",
      "  Attempting uninstall: nvidia-cublas-cu12\n",
      "    Found existing installation: nvidia-cublas-cu12 12.5.3.2\n",
      "    Uninstalling nvidia-cublas-cu12-12.5.3.2:\n",
      "      Successfully uninstalled nvidia-cublas-cu12-12.5.3.2\n",
      "  Attempting uninstall: nvidia-cusparse-cu12\n",
      "    Found existing installation: nvidia-cusparse-cu12 12.5.1.3\n",
      "    Uninstalling nvidia-cusparse-cu12-12.5.1.3:\n",
      "      Successfully uninstalled nvidia-cusparse-cu12-12.5.1.3\n",
      "  Attempting uninstall: nvidia-cudnn-cu12\n",
      "    Found existing installation: nvidia-cudnn-cu12 9.3.0.75\n",
      "    Uninstalling nvidia-cudnn-cu12-9.3.0.75:\n",
      "      Successfully uninstalled nvidia-cudnn-cu12-9.3.0.75\n",
      "  Attempting uninstall: nvidia-cusolver-cu12\n",
      "    Found existing installation: nvidia-cusolver-cu12 11.6.3.83\n",
      "    Uninstalling nvidia-cusolver-cu12-11.6.3.83:\n",
      "      Successfully uninstalled nvidia-cusolver-cu12-11.6.3.83\n",
      "Successfully installed nvidia-cublas-cu12-12.4.5.8 nvidia-cuda-cupti-cu12-12.4.127 nvidia-cuda-nvrtc-cu12-12.4.127 nvidia-cuda-runtime-cu12-12.4.127 nvidia-cudnn-cu12-9.1.0.70 nvidia-cufft-cu12-11.2.1.3 nvidia-curand-cu12-10.3.5.147 nvidia-cusolver-cu12-11.6.1.9 nvidia-cusparse-cu12-12.3.1.170 nvidia-nvjitlink-cu12-12.4.127 rouge-1.0.1 rouge-score-0.1.2\n"
     ]
    }
   ],
   "source": [
    "!pip install nltk rouge rouge-score torch\n"
   ]
  },
  {
   "cell_type": "code",
   "execution_count": null,
   "metadata": {
    "colab": {
     "base_uri": "https://localhost:8080/"
    },
    "id": "NuCCfwMHNh8r",
    "outputId": "52447625-749e-460e-cdff-13840da19ab0"
   },
   "outputs": [
    {
     "name": "stdout",
     "output_type": "stream",
     "text": [
      "BLEU Score: 0.1514\n",
      "ROUGE-1 Score: 0.4381\n",
      "ROUGE-2 Score: 0.2669\n",
      "ROUGE-L Score: 0.4267\n"
     ]
    }
   ],
   "source": [
    "from nltk.translate.bleu_score import sentence_bleu, SmoothingFunction\n",
    "from rouge import Rouge\n",
    "\n",
    "# File paths (Replace these with your actual file paths)\n",
    "reference_resume_path = \"/content/drive/MyDrive/resume for comparison.txt\"  # Your existing resume\n",
    "generated_resume_path = \"/content/resume.txt\"  # Your newly generated resume\n",
    "\n",
    "# Read the reference resume\n",
    "with open(reference_resume_path, \"r\", encoding=\"utf-8\") as ref_file:\n",
    "    reference_text = ref_file.read()\n",
    "\n",
    "# Read the generated resume\n",
    "with open(generated_resume_path, \"r\", encoding=\"utf-8\") as gen_file:\n",
    "    generated_text = gen_file.read()\n",
    "\n",
    "# Tokenizing sentences for BLEU Score Calculation\n",
    "reference_tokens = [reference_text.split()]\n",
    "generated_tokens = generated_text.split()\n",
    "\n",
    "# Compute BLEU Score with smoothing (to handle short sentences)\n",
    "smoothie = SmoothingFunction().method1\n",
    "bleu_score = sentence_bleu(reference_tokens, generated_tokens, smoothing_function=smoothie)\n",
    "\n",
    "# Compute ROUGE Score\n",
    "rouge = Rouge()\n",
    "rouge_scores = rouge.get_scores(generated_text, reference_text, avg=True)\n",
    "\n",
    "rouge_1_score = rouge_scores[\"rouge-1\"][\"f\"]\n",
    "rouge_2_score = rouge_scores[\"rouge-2\"][\"f\"]\n",
    "rouge_l_score = rouge_scores[\"rouge-l\"][\"f\"]\n",
    "\n",
    "# Print Results\n",
    "print(f\"BLEU Score: {bleu_score:.4f}\")\n",
    "print(f\"ROUGE-1 Score: {rouge_1_score:.4f}\")\n",
    "print(f\"ROUGE-2 Score: {rouge_2_score:.4f}\")\n",
    "print(f\"ROUGE-L Score: {rouge_l_score:.4f}\")\n"
   ]
  },
  {
   "cell_type": "code",
   "execution_count": null,
   "metadata": {
    "colab": {
     "base_uri": "https://localhost:8080/"
    },
    "id": "2Fz-fsCzOeNM",
    "outputId": "65f36879-3e51-4d63-baf1-c952b8abf4f5"
   },
   "outputs": [
    {
     "name": "stdout",
     "output_type": "stream",
     "text": [
      "Starting performance measurement...\n",
      "Generating resume...\n",
      "Total Time Taken: 0.5002 sec\n",
      "Throughput: 1 resumes/sec\n",
      "Average Latency: 0.5002 sec per resume\n",
      "CPU Usage: 2.5%\n",
      "GPU 0: 0% usage, 0% memory usage\n"
     ]
    }
   ],
   "source": [
    "import time\n",
    "import psutil  # For CPU monitoring\n",
    "import pynvml  # For NVIDIA GPU monitoring\n",
    "import math\n",
    "\n",
    "# Function to measure throughput and latency\n",
    "def measure_performance(generate_resume_function):\n",
    "    print(\"Starting performance measurement...\")\n",
    "\n",
    "    start_time = time.time()\n",
    "\n",
    "    generate_resume()  # Call your resume generation function\n",
    "\n",
    "    end_time = time.time()\n",
    "\n",
    "    total_time = end_time - start_time  # Time taken for one resume\n",
    "\n",
    "    throughput = 1 / total_time  # Since only one resume is generated\n",
    "    avg_latency = total_time  # Latency is just the time taken for that one generation\n",
    "\n",
    "    print(f\"Total Time Taken: {total_time:.4f} sec\")\n",
    "\n",
    "    return throughput, avg_latency\n",
    "\n",
    "# Function to check GPU usage\n",
    "def get_gpu_usage():\n",
    "    try:\n",
    "        pynvml.nvmlInit()\n",
    "        device_count = pynvml.nvmlDeviceGetCount()\n",
    "        for i in range(device_count):\n",
    "            handle = pynvml.nvmlDeviceGetHandleByIndex(i)\n",
    "            usage = pynvml.nvmlDeviceGetUtilizationRates(handle)\n",
    "            print(f\"GPU {i}: {usage.gpu}% usage, {usage.memory}% memory usage\")\n",
    "        pynvml.nvmlShutdown()\n",
    "    except:\n",
    "        print(\"No GPU detected or NVML not installed.\")\n",
    "\n",
    "# Function to check CPU usage\n",
    "def get_cpu_usage():\n",
    "    return psutil.cpu_percent(interval=1)\n",
    "\n",
    "# Dummy Resume Generation Function (Replace with your actual function)\n",
    "def generate_resume():\n",
    "    print(\"Generating resume...\")\n",
    "    time.sleep(0.5)  # Simulating resume generation time\n",
    "\n",
    "# Run performance tests\n",
    "throughput, avg_latency = measure_performance(generate_resume)\n",
    "\n",
    "# Display results\n",
    "print(f\"Throughput: {math.floor(1 / avg_latency)} resumes/sec\")\n",
    "print(f\"Average Latency: {avg_latency:.4f} sec per resume\")\n",
    "print(f\"CPU Usage: {get_cpu_usage()}%\")\n",
    "get_gpu_usage()\n"
   ]
  },
  {
   "cell_type": "code",
   "execution_count": null,
   "metadata": {
    "id": "a5z2wzdQPuld"
   },
   "outputs": [],
   "source": []
  }
 ],
 "metadata": {
  "accelerator": "GPU",
  "colab": {
   "gpuType": "T4",
   "provenance": []
  },
  "kernelspec": {
   "display_name": "Python 3",
   "name": "python3"
  },
  "language_info": {
   "name": "python"
  }
 },
 "nbformat": 4,
 "nbformat_minor": 0
}
